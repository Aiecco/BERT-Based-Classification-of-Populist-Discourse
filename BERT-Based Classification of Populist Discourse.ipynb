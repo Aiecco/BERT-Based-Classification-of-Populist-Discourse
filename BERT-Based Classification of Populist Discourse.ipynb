{
 "cells": [
  {
   "cell_type": "code",
   "id": "initial_id",
   "metadata": {
    "collapsed": true,
    "ExecuteTime": {
     "end_time": "2024-05-04T21:28:08.645207Z",
     "start_time": "2024-05-04T21:28:04.401866Z"
    }
   },
   "source": [
    "import torch\n",
    "from torch.optim import AdamW\n",
    "from torch.utils.data import DataLoader, Dataset\n",
    "from transformers import BertTokenizer, BertForSequenceClassification\n",
    "import pandas as pd\n",
    "from sklearn.model_selection import train_test_split\n",
    "import matplotlib.pyplot as plt\n",
    "from IPython.display import display, clear_output\n",
    "\n",
    "device = torch.device(\"cuda\" if torch.cuda.is_available() else \"cpu\")"
   ],
   "outputs": [],
   "execution_count": 1
  },
  {
   "metadata": {
    "ExecuteTime": {
     "end_time": "2024-05-04T21:28:08.648312Z",
     "start_time": "2024-05-04T21:28:08.645207Z"
    }
   },
   "cell_type": "code",
   "source": [
    "n_epochs = 50\n",
    "l_rate = 3e-5\n",
    "w_decay = 0.01"
   ],
   "id": "f9830cf3db096da4",
   "outputs": [],
   "execution_count": 2
  },
  {
   "metadata": {
    "ExecuteTime": {
     "end_time": "2024-05-04T21:28:08.855019Z",
     "start_time": "2024-05-04T21:28:08.648312Z"
    }
   },
   "cell_type": "code",
   "source": [
    "df = pd.read_excel(r\"C:\\Users\\alepa\\Desktop\\Database_NLP_Alessandro.xlsx\", header=None)\n",
    "\n",
    "labels = df.iloc[0, 0::2].tolist()\n",
    "speeches = df.iloc[0, 1::2].tolist()\n",
    "\n",
    "labels = [int(label) for label in labels]\n",
    "\n",
    "data = pd.DataFrame({'label': labels, 'speech': speeches})"
   ],
   "id": "3340c693504b8b4",
   "outputs": [],
   "execution_count": null
  },
  {
   "metadata": {},
   "cell_type": "code",
   "outputs": [],
   "execution_count": 3,
   "source": "train_data, test_data = train_test_split(data, test_size=0.2, stratify=data['label'])",
   "id": "3496863ead2e184b"
  },
  {
   "metadata": {
    "ExecuteTime": {
     "end_time": "2024-05-04T21:28:08.859152Z",
     "start_time": "2024-05-04T21:28:08.856025Z"
    }
   },
   "cell_type": "code",
   "source": [
    "class SpeechDataset(Dataset):\n",
    "    def __init__(self, speeches, labels, tokenizer, max_len=512):\n",
    "        self.speeches = speeches\n",
    "        self.labels = labels\n",
    "        self.tokenizer = tokenizer\n",
    "        self.max_len = max_len\n",
    "\n",
    "    def __len__(self):\n",
    "        return len(self.speeches)\n",
    "\n",
    "    def __getitem__(self, item):\n",
    "        speech = str(self.speeches[item])\n",
    "        label = self.labels[item]\n",
    "\n",
    "        encoding = self.tokenizer.encode_plus(\n",
    "            speech,\n",
    "            add_special_tokens=True,\n",
    "            max_length=self.max_len,\n",
    "            return_token_type_ids=False,\n",
    "            padding='max_length',\n",
    "            truncation=True,\n",
    "            return_attention_mask=True,\n",
    "            return_tensors='pt',\n",
    "        )\n",
    "\n",
    "        return {\n",
    "            'input_ids': encoding['input_ids'].flatten(),\n",
    "            'attention_mask': encoding['attention_mask'].flatten(),\n",
    "            'labels': torch.tensor(label, dtype=torch.long)\n",
    "        }"
   ],
   "id": "fd8b7227a8bc72af",
   "outputs": [],
   "execution_count": 4
  },
  {
   "metadata": {
    "ExecuteTime": {
     "end_time": "2024-05-04T21:28:10.535668Z",
     "start_time": "2024-05-04T21:28:08.859152Z"
    }
   },
   "cell_type": "code",
   "source": [
    "tokenizer = BertTokenizer.from_pretrained('bert-base-uncased')\n",
    "\n",
    "train_dataset = SpeechDataset(train_data['speech'].tolist(), train_data['label'].tolist(), tokenizer)\n",
    "test_dataset = SpeechDataset(test_data['speech'].tolist(), test_data['label'].tolist(), tokenizer)\n",
    "\n",
    "train_loader = DataLoader(train_dataset, batch_size=16, shuffle=True)\n",
    "test_loader = DataLoader(test_dataset, batch_size=16, shuffle=False)\n",
    "\n",
    "model = BertForSequenceClassification.from_pretrained('bert-base-uncased', num_labels=2)\n",
    "model.train()\n",
    "model.to(device)"
   ],
   "id": "13112fbe5cfbf07b",
   "outputs": [
    {
     "name": "stderr",
     "output_type": "stream",
     "text": [
      "C:\\Users\\alepa\\PycharmProjects\\pythonProject\\.venv\\Lib\\site-packages\\huggingface_hub\\file_download.py:1132: FutureWarning: `resume_download` is deprecated and will be removed in version 1.0.0. Downloads always resume when possible. If you want to force a new download, use `force_download=True`.\n",
      "  warnings.warn(\n",
      "Some weights of BertForSequenceClassification were not initialized from the model checkpoint at bert-base-uncased and are newly initialized: ['classifier.bias', 'classifier.weight']\n",
      "You should probably TRAIN this model on a down-stream task to be able to use it for predictions and inference.\n"
     ]
    },
    {
     "data": {
      "text/plain": [
       "BertForSequenceClassification(\n",
       "  (bert): BertModel(\n",
       "    (embeddings): BertEmbeddings(\n",
       "      (word_embeddings): Embedding(30522, 768, padding_idx=0)\n",
       "      (position_embeddings): Embedding(512, 768)\n",
       "      (token_type_embeddings): Embedding(2, 768)\n",
       "      (LayerNorm): LayerNorm((768,), eps=1e-12, elementwise_affine=True)\n",
       "      (dropout): Dropout(p=0.1, inplace=False)\n",
       "    )\n",
       "    (encoder): BertEncoder(\n",
       "      (layer): ModuleList(\n",
       "        (0-11): 12 x BertLayer(\n",
       "          (attention): BertAttention(\n",
       "            (self): BertSelfAttention(\n",
       "              (query): Linear(in_features=768, out_features=768, bias=True)\n",
       "              (key): Linear(in_features=768, out_features=768, bias=True)\n",
       "              (value): Linear(in_features=768, out_features=768, bias=True)\n",
       "              (dropout): Dropout(p=0.1, inplace=False)\n",
       "            )\n",
       "            (output): BertSelfOutput(\n",
       "              (dense): Linear(in_features=768, out_features=768, bias=True)\n",
       "              (LayerNorm): LayerNorm((768,), eps=1e-12, elementwise_affine=True)\n",
       "              (dropout): Dropout(p=0.1, inplace=False)\n",
       "            )\n",
       "          )\n",
       "          (intermediate): BertIntermediate(\n",
       "            (dense): Linear(in_features=768, out_features=3072, bias=True)\n",
       "            (intermediate_act_fn): GELUActivation()\n",
       "          )\n",
       "          (output): BertOutput(\n",
       "            (dense): Linear(in_features=3072, out_features=768, bias=True)\n",
       "            (LayerNorm): LayerNorm((768,), eps=1e-12, elementwise_affine=True)\n",
       "            (dropout): Dropout(p=0.1, inplace=False)\n",
       "          )\n",
       "        )\n",
       "      )\n",
       "    )\n",
       "    (pooler): BertPooler(\n",
       "      (dense): Linear(in_features=768, out_features=768, bias=True)\n",
       "      (activation): Tanh()\n",
       "    )\n",
       "  )\n",
       "  (dropout): Dropout(p=0.1, inplace=False)\n",
       "  (classifier): Linear(in_features=768, out_features=2, bias=True)\n",
       ")"
      ]
     },
     "execution_count": 5,
     "metadata": {},
     "output_type": "execute_result"
    }
   ],
   "execution_count": 5
  },
  {
   "metadata": {
    "ExecuteTime": {
     "end_time": "2024-05-04T21:28:11.284353Z",
     "start_time": "2024-05-04T21:28:10.535668Z"
    }
   },
   "cell_type": "code",
   "source": [
    "optimizer = torch.optim.AdamW(model.parameters(),\n",
    "                              lr = l_rate, \n",
    "                              weight_decay = w_decay)"
   ],
   "id": "b7f7c56f706ee33a",
   "outputs": [],
   "execution_count": 6
  },
  {
   "metadata": {
    "ExecuteTime": {
     "end_time": "2024-05-04T21:28:11.288544Z",
     "start_time": "2024-05-04T21:28:11.284353Z"
    }
   },
   "cell_type": "code",
   "source": [
    "def live_plot(train_data, test_data, figsize=(7,5), title=''):\n",
    "    clear_output(wait=True)\n",
    "    fig, (ax1, ax2) = plt.subplots(1, 2, figsize=figsize)\n",
    "    ax1.plot(train_data['Train Loss'], label='Train Loss')\n",
    "    ax1.plot(train_data['Train Accuracy'], label='Train Accuracy')\n",
    "    ax1.set_title('Training Loss and Accuracy')\n",
    "    ax1.set_xlabel('Epoch')\n",
    "    ax1.set_ylabel('Value')\n",
    "    ax1.legend(loc='upper right')\n",
    "    ax1.grid(True)\n",
    "\n",
    "    ax2.plot(test_data['Test Loss'], label='Test Loss')\n",
    "    ax2.plot(test_data['Test Accuracy'], label='Test Accuracy')\n",
    "    ax2.set_title('Testing Loss and Accuracy')\n",
    "    ax2.set_xlabel('Epoch')\n",
    "    ax2.set_ylabel('Value')\n",
    "    ax2.legend(loc='upper right')\n",
    "    ax2.grid(True)\n",
    "\n",
    "    plt.suptitle(title)\n",
    "    plt.show()\n",
    "\n",
    "train_metrics = {'Train Loss': [], 'Train Accuracy': []}\n",
    "test_metrics = {'Test Loss': [], 'Test Accuracy': []}\n",
    "\n",
    "train_losses, train_accuracies = [], []\n",
    "test_losses, test_accuracies = [], []"
   ],
   "id": "106c4c01422dc1a7",
   "outputs": [],
   "execution_count": 7
  },
  {
   "metadata": {
    "jupyter": {
     "is_executing": true
    }
   },
   "cell_type": "code",
   "source": [
    "for epoch in range(n_epochs):\n",
    "    model.train()\n",
    "    total_train_loss, total_train_accuracy = 0, 0\n",
    "\n",
    "    for batch in train_loader:\n",
    "        batch = {k: v.to(device) for k, v in batch.items()}\n",
    "        optimizer.zero_grad()\n",
    "        outputs = model(**batch)\n",
    "        loss = outputs.loss\n",
    "        loss.backward()\n",
    "        optimizer.step()\n",
    "\n",
    "        total_train_loss += loss.item()\n",
    "        total_train_accuracy += (outputs.logits.argmax(dim=-1) == batch['labels']).float().mean().item()\n",
    "\n",
    "    train_metrics['Train Loss'].append(total_train_loss / len(train_loader))\n",
    "    train_metrics['Train Accuracy'].append(total_train_accuracy / len(train_loader))\n",
    "\n",
    "    model.eval()\n",
    "    total_test_loss, total_test_accuracy = 0, 0\n",
    "    with torch.no_grad():\n",
    "        for batch in test_loader:\n",
    "            batch = {k: v.to(device) for k, v in batch.items()}\n",
    "            outputs = model(**batch)\n",
    "            loss = outputs.loss\n",
    "\n",
    "            total_test_loss += loss.item()\n",
    "            total_test_accuracy += (outputs.logits.argmax(dim=-1) == batch['labels']).float().mean().item()\n",
    "\n",
    "    test_metrics['Test Loss'].append(total_test_loss / len(test_loader))\n",
    "    test_metrics['Test Accuracy'].append(total_test_accuracy / len(test_loader))\n",
    "\n",
    "    live_plot(train_metrics, test_metrics, title='Real-time Training and Testing Metrics')"
   ],
   "id": "9e52d950af0963ed",
   "execution_count": null,
   "outputs": []
  }
 ],
 "metadata": {
  "kernelspec": {
   "display_name": "Python 3",
   "language": "python",
   "name": "python3"
  },
  "language_info": {
   "codemirror_mode": {
    "name": "ipython",
    "version": 2
   },
   "file_extension": ".py",
   "mimetype": "text/x-python",
   "name": "python",
   "nbconvert_exporter": "python",
   "pygments_lexer": "ipython2",
   "version": "2.7.6"
  }
 },
 "nbformat": 4,
 "nbformat_minor": 5
}
