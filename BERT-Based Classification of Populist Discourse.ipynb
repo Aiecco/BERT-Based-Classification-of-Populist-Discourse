{
 "cells": [
  {
   "metadata": {
    "ExecuteTime": {
     "end_time": "2024-05-09T11:41:56.272859Z",
     "start_time": "2024-05-09T11:41:56.269888Z"
    }
   },
   "cell_type": "code",
   "source": [
    "import torch\n",
    "from torch.optim import AdamW\n",
    "from torch.utils.data import DataLoader, Dataset\n",
    "from sklearn.model_selection import train_test_split\n",
    "from transformers import BertTokenizer, BertForSequenceClassification\n",
    "import pandas as pd\n",
    "import matplotlib.pyplot as plt\n",
    "import seaborn as sns\n",
    "from IPython.display import clear_output"
   ],
   "id": "288aa55b97b65525",
   "outputs": [],
   "execution_count": 3
  },
  {
   "metadata": {
    "ExecuteTime": {
     "end_time": "2024-05-09T11:41:56.279249Z",
     "start_time": "2024-05-09T11:41:56.275871Z"
    }
   },
   "cell_type": "code",
   "source": "device = torch.device(\"cuda\" if torch.cuda.is_available() else \"cpu\")",
   "id": "9d4201091c1ad095",
   "outputs": [],
   "execution_count": 4
  },
  {
   "metadata": {
    "ExecuteTime": {
     "end_time": "2024-05-09T11:41:56.285855Z",
     "start_time": "2024-05-09T11:41:56.279249Z"
    }
   },
   "cell_type": "code",
   "source": [
    "n_epochs = 5\n",
    "l_rate = 5e-5\n",
    "w_decay = 0.001"
   ],
   "id": "cd78f633f6876a4b",
   "outputs": [],
   "execution_count": 5
  },
  {
   "metadata": {
    "ExecuteTime": {
     "end_time": "2024-05-09T11:41:56.292307Z",
     "start_time": "2024-05-09T11:41:56.285855Z"
    }
   },
   "cell_type": "code",
   "source": "path = r\"C:\\Users\\alepa\\Desktop\\DB_Alessandro.xlsx\"",
   "id": "f45c30ebed3abf69",
   "outputs": [],
   "execution_count": 6
  },
  {
   "metadata": {
    "ExecuteTime": {
     "end_time": "2024-05-09T11:41:56.451304Z",
     "start_time": "2024-05-09T11:41:56.293313Z"
    }
   },
   "cell_type": "code",
   "source": [
    "data = pd.read_excel(path, header=None)\n",
    "data = data.iloc[:, :156]\n",
    "labels = data.iloc[0, 0::2].tolist()\n",
    "speeches = data.iloc[0, 1::2].tolist()\n",
    "\n",
    "labels = [int(label) for label in labels]\n",
    "\n",
    "data = pd.DataFrame({'label': labels, 'speech': speeches})"
   ],
   "id": "da473fcc646a3ef2",
   "outputs": [],
   "execution_count": 7
  },
  {
   "metadata": {
    "ExecuteTime": {
     "end_time": "2024-05-09T11:41:56.456832Z",
     "start_time": "2024-05-09T11:41:56.451304Z"
    }
   },
   "cell_type": "code",
   "source": "train_data, test_data = train_test_split(data, test_size=0.2, stratify=data['label'])",
   "id": "d0ef44909ff04dad",
   "outputs": [],
   "execution_count": 8
  },
  {
   "metadata": {
    "ExecuteTime": {
     "end_time": "2024-05-09T11:41:56.461603Z",
     "start_time": "2024-05-09T11:41:56.456832Z"
    }
   },
   "cell_type": "code",
   "source": [
    "class SpeechDataset(Dataset):\n",
    "    def __init__(self, speeches, labels, tokenizer, max_len=512):\n",
    "        self.speeches = speeches\n",
    "        self.labels = labels\n",
    "        self.tokenizer = tokenizer\n",
    "        self.max_len = max_len\n",
    "\n",
    "    def __len__(self):\n",
    "        return len(self.speeches)\n",
    "\n",
    "    def __getitem__(self, item):\n",
    "        speech = str(self.speeches[item])\n",
    "        label = self.labels[item]\n",
    "\n",
    "        encoding = self.tokenizer.encode_plus(\n",
    "            speech,\n",
    "            add_special_tokens=True,\n",
    "            max_length=self.max_len,\n",
    "            return_token_type_ids=False,\n",
    "            padding='max_length',\n",
    "            truncation=True,\n",
    "            return_attention_mask=True,\n",
    "            return_tensors='pt',\n",
    "        )\n",
    "\n",
    "        return {\n",
    "            'input_ids': encoding['input_ids'].flatten(),\n",
    "            'attention_mask': encoding['attention_mask'].flatten(),\n",
    "            'labels': torch.tensor(label, dtype=torch.long)\n",
    "        }\n"
   ],
   "id": "320dfdd2e16ece32",
   "outputs": [],
   "execution_count": 9
  },
  {
   "metadata": {
    "ExecuteTime": {
     "end_time": "2024-05-09T11:41:57.819255Z",
     "start_time": "2024-05-09T11:41:56.461603Z"
    }
   },
   "cell_type": "code",
   "source": [
    "tokenizer = BertTokenizer.from_pretrained('bert-base-uncased')\n",
    "\n",
    "train_dataset = SpeechDataset(train_data['speech'].tolist(), train_data['label'].tolist(), tokenizer)\n",
    "test_dataset = SpeechDataset(test_data['speech'].tolist(), test_data['label'].tolist(), tokenizer)\n",
    "\n",
    "train_loader = DataLoader(train_dataset, batch_size=16, shuffle=True)\n",
    "test_loader = DataLoader(test_dataset, batch_size=16, shuffle=False)\n",
    "\n",
    "model = BertForSequenceClassification.from_pretrained('bert-base-uncased', num_labels=2)\n",
    "model.train()\n",
    "model.to(device)"
   ],
   "id": "8405bea95833816f",
   "outputs": [
    {
     "name": "stderr",
     "output_type": "stream",
     "text": [
      "C:\\Users\\alepa\\PycharmProjects\\pythonProject\\.venv\\Lib\\site-packages\\huggingface_hub\\file_download.py:1132: FutureWarning: `resume_download` is deprecated and will be removed in version 1.0.0. Downloads always resume when possible. If you want to force a new download, use `force_download=True`.\n",
      "  warnings.warn(\n",
      "Some weights of BertForSequenceClassification were not initialized from the model checkpoint at bert-base-uncased and are newly initialized: ['classifier.bias', 'classifier.weight']\n",
      "You should probably TRAIN this model on a down-stream task to be able to use it for predictions and inference.\n"
     ]
    },
    {
     "data": {
      "text/plain": [
       "BertForSequenceClassification(\n",
       "  (bert): BertModel(\n",
       "    (embeddings): BertEmbeddings(\n",
       "      (word_embeddings): Embedding(30522, 768, padding_idx=0)\n",
       "      (position_embeddings): Embedding(512, 768)\n",
       "      (token_type_embeddings): Embedding(2, 768)\n",
       "      (LayerNorm): LayerNorm((768,), eps=1e-12, elementwise_affine=True)\n",
       "      (dropout): Dropout(p=0.1, inplace=False)\n",
       "    )\n",
       "    (encoder): BertEncoder(\n",
       "      (layer): ModuleList(\n",
       "        (0-11): 12 x BertLayer(\n",
       "          (attention): BertAttention(\n",
       "            (self): BertSelfAttention(\n",
       "              (query): Linear(in_features=768, out_features=768, bias=True)\n",
       "              (key): Linear(in_features=768, out_features=768, bias=True)\n",
       "              (value): Linear(in_features=768, out_features=768, bias=True)\n",
       "              (dropout): Dropout(p=0.1, inplace=False)\n",
       "            )\n",
       "            (output): BertSelfOutput(\n",
       "              (dense): Linear(in_features=768, out_features=768, bias=True)\n",
       "              (LayerNorm): LayerNorm((768,), eps=1e-12, elementwise_affine=True)\n",
       "              (dropout): Dropout(p=0.1, inplace=False)\n",
       "            )\n",
       "          )\n",
       "          (intermediate): BertIntermediate(\n",
       "            (dense): Linear(in_features=768, out_features=3072, bias=True)\n",
       "            (intermediate_act_fn): GELUActivation()\n",
       "          )\n",
       "          (output): BertOutput(\n",
       "            (dense): Linear(in_features=3072, out_features=768, bias=True)\n",
       "            (LayerNorm): LayerNorm((768,), eps=1e-12, elementwise_affine=True)\n",
       "            (dropout): Dropout(p=0.1, inplace=False)\n",
       "          )\n",
       "        )\n",
       "      )\n",
       "    )\n",
       "    (pooler): BertPooler(\n",
       "      (dense): Linear(in_features=768, out_features=768, bias=True)\n",
       "      (activation): Tanh()\n",
       "    )\n",
       "  )\n",
       "  (dropout): Dropout(p=0.1, inplace=False)\n",
       "  (classifier): Linear(in_features=768, out_features=2, bias=True)\n",
       ")"
      ]
     },
     "execution_count": 10,
     "metadata": {},
     "output_type": "execute_result"
    }
   ],
   "execution_count": 10
  },
  {
   "metadata": {
    "ExecuteTime": {
     "end_time": "2024-05-09T11:41:58.324233Z",
     "start_time": "2024-05-09T11:41:57.819255Z"
    }
   },
   "cell_type": "code",
   "source": [
    "\n",
    "optimizer = torch.optim.AdamW(model.parameters(),\n",
    "                              lr=l_rate,\n",
    "                              weight_decay=w_decay)"
   ],
   "id": "4bf966d58bdc2813",
   "outputs": [],
   "execution_count": 11
  },
  {
   "metadata": {
    "ExecuteTime": {
     "end_time": "2024-05-09T11:41:58.329220Z",
     "start_time": "2024-05-09T11:41:58.324233Z"
    }
   },
   "cell_type": "code",
   "source": [
    "def live_plot(train_data, test_data, figsize=(10, 5), title=''):\n",
    "    clear_output(wait=True)\n",
    "\n",
    "    # Create a DataFrame for easier plotting with seaborn\n",
    "    data_train = pd.DataFrame(train_data)\n",
    "    data_train['Type'] = 'Train'\n",
    "    data_test = pd.DataFrame(test_data)\n",
    "    data_test['Type'] = 'Test'\n",
    "    data = pd.concat([data_train, data_test], axis=0)\n",
    "    data.reset_index(inplace=True)\n",
    "    data.rename(columns={'index': 'Epoch'}, inplace=True)\n",
    "\n",
    "    sns.set(style='dark')\n",
    "\n",
    "    fig, (ax1, ax2) = plt.subplots(1, 2, figsize=figsize)\n",
    "\n",
    "    sns.lineplot(x='Epoch', y='Loss', hue='Type',\n",
    "                 data=data.melt(id_vars=['Epoch', 'Type'], value_vars=['Train Loss', 'Test Loss'], var_name='Metric',\n",
    "                              value_name='Loss'), ax=ax1)\n",
    "    ax1.set_title('Loss')\n",
    "    ax1.set_xlabel('Epoch')\n",
    "    ax1.legend(loc='upper right')\n",
    "\n",
    "    sns.lineplot(x='Epoch', y='Accuracy', hue='Type',\n",
    "                 data=data.melt(id_vars=['Epoch', 'Type'], value_vars=['Train Accuracy', 'Test Accuracy'],\n",
    "                              var_name='Metric', value_name='Accuracy'), ax=ax2)\n",
    "    ax2.set_title('Accuracy')\n",
    "    ax2.set_xlabel('Epoch')\n",
    "    ax2.legend(loc='lower right')\n",
    "\n",
    "    plt.suptitle(title)\n",
    "    plt.tight_layout()\n",
    "    plt.show()\n",
    "\n",
    "\n",
    "train_metrics = {'Train Loss': [], 'Train Accuracy': []}\n",
    "test_metrics = {'Test Loss': [], 'Test Accuracy': []}\n",
    "\n",
    "train_losses, train_accuracies = [], []\n",
    "test_losses, test_accuracies = [], []"
   ],
   "id": "8badd745664e4ff1",
   "outputs": [],
   "execution_count": 12
  },
  {
   "metadata": {},
   "cell_type": "code",
   "source": [
    "\n",
    "for epoch in range(n_epochs):\n",
    "    model.train()\n",
    "    total_train_loss, total_train_accuracy = 0, 0\n",
    "\n",
    "    for batch in train_loader:\n",
    "        batch = {k: v.to(device) for k, v in batch.items()}\n",
    "        optimizer.zero_grad()\n",
    "        outputs = model(**batch)\n",
    "        loss = outputs.loss\n",
    "        loss.backward()\n",
    "        optimizer.step()\n",
    "\n",
    "        total_train_loss += loss.item()\n",
    "        total_train_accuracy += (outputs.logits.argmax(dim=-1) == batch['labels']).float().mean().item()\n",
    "\n",
    "    train_metrics['Train Loss'].append(total_train_loss / len(train_loader))\n",
    "    train_metrics['Train Accuracy'].append(total_train_accuracy / len(train_loader))\n",
    "\n",
    "    model.eval()\n",
    "    total_test_loss, total_test_accuracy = 0, 0\n",
    "    with torch.no_grad():\n",
    "        for batch in test_loader:\n",
    "            batch = {k: v.to(device) for k, v in batch.items()}\n",
    "            outputs = model(**batch)\n",
    "            loss = outputs.loss\n",
    "\n",
    "            total_test_loss += loss.item()\n",
    "            total_test_accuracy += (outputs.logits.argmax(dim=-1) == batch['labels']).float().mean().item()\n",
    "\n",
    "    test_metrics['Test Loss'].append(total_test_loss / len(test_loader))\n",
    "    test_metrics['Test Accuracy'].append(total_test_accuracy / len(test_loader))\n",
    "\n",
    "    live_plot(train_metrics, test_metrics, title='Real-time Training and Testing Metrics')"
   ],
   "id": "2f86d296ef16a763",
   "execution_count": 13,
   "outputs": []
  },
  {
   "metadata": {
    "ExecuteTime": {
     "end_time": "2024-05-09T12:37:54.540271Z",
     "start_time": "2024-05-09T12:37:53.461686Z"
    }
   },
   "cell_type": "code",
   "source": [
    "def predict_speech(speech, model, tokenizer):\n",
    "    inputs = tokenizer.encode_plus(\n",
    "        speech,\n",
    "        add_special_tokens=True,\n",
    "        max_length=512,\n",
    "        return_token_type_ids=False,\n",
    "        padding='max_length',\n",
    "        truncation=True,\n",
    "        return_attention_mask=True,\n",
    "        return_tensors='pt',\n",
    "    )\n",
    "    \n",
    "    input_ids = inputs['input_ids'].to(device)\n",
    "    attention_mask = inputs['attention_mask'].to(device)\n",
    "\n",
    "\n",
    "    model.eval()\n",
    "    with torch.no_grad():\n",
    "        outputs = model(input_ids=input_ids, attention_mask=attention_mask)\n",
    "        logits = outputs.logits.squeeze(0)\n",
    "        probabilities = torch.nn.functional.softmax(logits, dim=-1)\n",
    "        predicted_label = probabilities.argmax(dim=-1).item()\n",
    "        confidence = probabilities.max().item()\n",
    "\n",
    "\n",
    "    label_map = {0: \"Not Populist\", 1: \"Populist\"}\n",
    "    print(f\"Predicted Label: {label_map[predicted_label]} (Confidence: {confidence:.2f})\")\n",
    "\n",
    "\n",
    "user_speech = input(\"Enter a speech to classify: \")\n",
    "predict_speech(user_speech, model, tokenizer)\n"
   ],
   "id": "93050c6dbfd48ff",
   "outputs": [
    {
     "name": "stdout",
     "output_type": "stream",
     "text": [
      "Predicted Label: Populist (Confidence: 0.97)\n"
     ]
    }
   ],
   "execution_count": 30
  }
 ],
 "metadata": {
  "kernelspec": {
   "display_name": "Python 3",
   "language": "python",
   "name": "python3"
  },
  "language_info": {
   "codemirror_mode": {
    "name": "ipython",
    "version": 2
   },
   "file_extension": ".py",
   "mimetype": "text/x-python",
   "name": "python",
   "nbconvert_exporter": "python",
   "pygments_lexer": "ipython2",
   "version": "2.7.6"
  }
 },
 "nbformat": 4,
 "nbformat_minor": 5
}
